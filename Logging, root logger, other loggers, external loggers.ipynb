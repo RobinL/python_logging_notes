{
 "cells": [
  {
   "cell_type": "code",
   "execution_count": 1,
   "metadata": {
    "collapsed": false
   },
   "outputs": [],
   "source": [
    "import logging\n",
    "import requests\n",
    "#http://eric.themoritzfamily.com/learning-python-logging.html"
   ]
  },
  {
   "cell_type": "code",
   "execution_count": 21,
   "metadata": {
    "collapsed": false
   },
   "outputs": [
    {
     "data": {
      "text/plain": [
       "True"
      ]
     },
     "execution_count": 21,
     "metadata": {},
     "output_type": "execute_result"
    }
   ],
   "source": [
    "logging.root is logging.getLogger()"
   ]
  },
  {
   "cell_type": "code",
   "execution_count": 2,
   "metadata": {
    "collapsed": true
   },
   "outputs": [],
   "source": [
    "#If we set the main logger to downgrade other loggers levels, it will do so\n",
    "logging.root.setLevel(\"DEBUG\")"
   ]
  },
  {
   "cell_type": "code",
   "execution_count": 3,
   "metadata": {
    "collapsed": false
   },
   "outputs": [
    {
     "name": "stderr",
     "output_type": "stream",
     "text": [
      "INFO:requests.packages.urllib3.connectionpool:Starting new HTTP connection (1): www.bbc.co.uk\n",
      "DEBUG:requests.packages.urllib3.connectionpool:\"GET /news HTTP/1.1\" 200 33549\n"
     ]
    },
    {
     "data": {
      "text/plain": [
       "<Response [200]>"
      ]
     },
     "execution_count": 3,
     "metadata": {},
     "output_type": "execute_result"
    }
   ],
   "source": [
    "requests.get(\"http://www.bbc.co.uk/news\")"
   ]
  },
  {
   "cell_type": "code",
   "execution_count": 4,
   "metadata": {
    "collapsed": true
   },
   "outputs": [],
   "source": [
    "#If we set the main logger at a high level, it will affect other loggers\n",
    "logging.root.setLevel(\"WARNING\")"
   ]
  },
  {
   "cell_type": "code",
   "execution_count": 5,
   "metadata": {
    "collapsed": false
   },
   "outputs": [
    {
     "data": {
      "text/plain": [
       "<Response [200]>"
      ]
     },
     "execution_count": 5,
     "metadata": {},
     "output_type": "execute_result"
    }
   ],
   "source": [
    "requests.get(\"http://www.bbc.co.uk/news\")"
   ]
  },
  {
   "cell_type": "code",
   "execution_count": 8,
   "metadata": {
    "collapsed": true
   },
   "outputs": [],
   "source": [
    "#But if we have explicitly set the level of another logger, this prevents the 'cascade'"
   ]
  },
  {
   "cell_type": "code",
   "execution_count": 7,
   "metadata": {
    "collapsed": false
   },
   "outputs": [],
   "source": [
    "logging.getLogger(\"requests\").setLevel(\"DEBUG\")\n",
    "logging.root.setLevel(\"WARNING\")"
   ]
  },
  {
   "cell_type": "code",
   "execution_count": 8,
   "metadata": {
    "collapsed": false
   },
   "outputs": [
    {
     "name": "stderr",
     "output_type": "stream",
     "text": [
      "INFO:requests.packages.urllib3.connectionpool:Starting new HTTP connection (1): www.bbc.co.uk\n",
      "DEBUG:requests.packages.urllib3.connectionpool:\"GET /news HTTP/1.1\" 200 33545\n"
     ]
    },
    {
     "data": {
      "text/plain": [
       "<Response [200]>"
      ]
     },
     "execution_count": 8,
     "metadata": {},
     "output_type": "execute_result"
    }
   ],
   "source": [
    "requests.get(\"http://www.bbc.co.uk/news\")"
   ]
  },
  {
   "cell_type": "code",
   "execution_count": 9,
   "metadata": {
    "collapsed": true
   },
   "outputs": [],
   "source": [
    "logging.getLogger(\"requests\").setLevel(\"WARNING\")"
   ]
  },
  {
   "cell_type": "code",
   "execution_count": 10,
   "metadata": {
    "collapsed": false
   },
   "outputs": [
    {
     "data": {
      "text/plain": [
       "<Response [200]>"
      ]
     },
     "execution_count": 10,
     "metadata": {},
     "output_type": "execute_result"
    }
   ],
   "source": [
    "requests.get(\"http://www.bbc.co.uk/news\")"
   ]
  },
  {
   "cell_type": "code",
   "execution_count": 11,
   "metadata": {
    "collapsed": false
   },
   "outputs": [
    {
     "data": {
      "text/plain": [
       "<Response [200]>"
      ]
     },
     "execution_count": 11,
     "metadata": {},
     "output_type": "execute_result"
    }
   ],
   "source": [
    "logging.root.setLevel(\"DEBUG\")\n",
    "requests.get(\"http://www.bbc.co.uk/news\")"
   ]
  },
  {
   "cell_type": "code",
   "execution_count": 14,
   "metadata": {
    "collapsed": true
   },
   "outputs": [],
   "source": [
    "#These rules also apply if we set up a separate logger\n",
    "\n",
    "my_logger = logging.getLogger(\"my_logger\")"
   ]
  },
  {
   "cell_type": "code",
   "execution_count": 15,
   "metadata": {
    "collapsed": false
   },
   "outputs": [
    {
     "data": {
      "text/plain": [
       "[]"
      ]
     },
     "execution_count": 15,
     "metadata": {},
     "output_type": "execute_result"
    }
   ],
   "source": [
    "my_logger.handlers #Note this logger has no handler - it's passing its output through to the root logger"
   ]
  },
  {
   "cell_type": "code",
   "execution_count": 16,
   "metadata": {
    "collapsed": false
   },
   "outputs": [
    {
     "name": "stderr",
     "output_type": "stream",
     "text": [
      "DEBUG:my_logger:hi\n"
     ]
    }
   ],
   "source": [
    "my_logger.debug(\"hi\")"
   ]
  },
  {
   "cell_type": "code",
   "execution_count": 17,
   "metadata": {
    "collapsed": true
   },
   "outputs": [],
   "source": [
    "logging.root.setLevel(\"WARNING\")"
   ]
  },
  {
   "cell_type": "code",
   "execution_count": 18,
   "metadata": {
    "collapsed": true
   },
   "outputs": [],
   "source": [
    "my_logger.debug(\"hi\")"
   ]
  },
  {
   "cell_type": "code",
   "execution_count": 19,
   "metadata": {
    "collapsed": true
   },
   "outputs": [],
   "source": [
    "#We can explicitly set its logging (note it still has no handler! - but nonetheless it will pass output to the root logger)\n",
    "my_logger.setLevel(\"DEBUG\")"
   ]
  },
  {
   "cell_type": "code",
   "execution_count": 20,
   "metadata": {
    "collapsed": false
   },
   "outputs": [
    {
     "name": "stderr",
     "output_type": "stream",
     "text": [
      "DEBUG:my_logger:hi\n"
     ]
    }
   ],
   "source": [
    "my_logger.debug(\"hi\")"
   ]
  },
  {
   "cell_type": "code",
   "execution_count": null,
   "metadata": {
    "collapsed": true
   },
   "outputs": [],
   "source": [
    "#How to set up logging across modules\n",
    "\n",
    "#Supposing we have main.py which imports a module other.py\n",
    "\n",
    "#The correct way to do this:\n",
    "#In other.py  (and any other modules EXCEPT the main module)\n",
    "#Logging configuration is an application level configuration - so is configured once.  It is never configured in modules.\n",
    "import logging\n",
    "logger = logging.getLogger(__name__)\n",
    "#and then log all messages to logger\n",
    "\n",
    "\n",
    "#in main.py\n",
    "import logging\n",
    "\n",
    "#Note that logging.root will have a streamhandler already\n",
    "#logging.root.handlers[0]\n",
    "\n",
    "#So all we have to do is configure the stream handler \n",
    "logging.root.setLevel(\"DEBUG\")\n",
    "\n",
    "#Then set a formatter on the handler:\n",
    "h=logging.root.handlers[0]\n",
    "f = logging.Formatter(\n",
    "    '%(asctime)s '\n",
    "    '%(levelname)-10s '\n",
    "    '%(process)-6d '\n",
    "    '%(filename)-24s '\n",
    "    '%(lineno)-4d '\n",
    "    '%(message)s '\n",
    ")\n",
    "\n",
    "h.setFormatter(f)\n",
    "\n",
    "\n",
    "#Or add another handler \n",
    "\n",
    "#Or have multiple loggers: https://github.com/mw44118/really-good-logging/blob/master/rgl/multiple_logging_channels.py\n",
    "\n"
   ]
  }
 ],
 "metadata": {
  "kernelspec": {
   "display_name": "Python 2",
   "language": "python",
   "name": "python2"
  },
  "language_info": {
   "codemirror_mode": {
    "name": "ipython",
    "version": 2
   },
   "file_extension": ".py",
   "mimetype": "text/x-python",
   "name": "python",
   "nbconvert_exporter": "python",
   "pygments_lexer": "ipython2",
   "version": "2.7.6"
  }
 },
 "nbformat": 4,
 "nbformat_minor": 0
}
